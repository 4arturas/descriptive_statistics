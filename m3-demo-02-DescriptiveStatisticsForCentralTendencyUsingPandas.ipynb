{
 "cells": [
  {
   "cell_type": "code",
   "execution_count": 57,
   "metadata": {
    "pycharm": {
     "is_executing": false
    }
   },
   "outputs": [],
   "source": [
    "import numpy as np\n",
    "import pandas as pd\n",
    "import matplotlib.pyplot as plt"
   ]
  },
  {
   "cell_type": "code",
   "execution_count": 64,
   "metadata": {
    "pycharm": {
     "is_executing": false
    }
   },
   "outputs": [
    {
     "data": {
      "text/plain": "   Gender  Height  Weight  Index\n0    Male     174      96      4\n1    Male     189      87      2\n2  Female     185     110      4\n3  Female     195     104      3\n4    Male     149      61      3",
      "text/html": "<div>\n<style scoped>\n    .dataframe tbody tr th:only-of-type {\n        vertical-align: middle;\n    }\n\n    .dataframe tbody tr th {\n        vertical-align: top;\n    }\n\n    .dataframe thead th {\n        text-align: right;\n    }\n</style>\n<table border=\"1\" class=\"dataframe\">\n  <thead>\n    <tr style=\"text-align: right;\">\n      <th></th>\n      <th>Gender</th>\n      <th>Height</th>\n      <th>Weight</th>\n      <th>Index</th>\n    </tr>\n  </thead>\n  <tbody>\n    <tr>\n      <td>0</td>\n      <td>Male</td>\n      <td>174</td>\n      <td>96</td>\n      <td>4</td>\n    </tr>\n    <tr>\n      <td>1</td>\n      <td>Male</td>\n      <td>189</td>\n      <td>87</td>\n      <td>2</td>\n    </tr>\n    <tr>\n      <td>2</td>\n      <td>Female</td>\n      <td>185</td>\n      <td>110</td>\n      <td>4</td>\n    </tr>\n    <tr>\n      <td>3</td>\n      <td>Female</td>\n      <td>195</td>\n      <td>104</td>\n      <td>3</td>\n    </tr>\n    <tr>\n      <td>4</td>\n      <td>Male</td>\n      <td>149</td>\n      <td>61</td>\n      <td>3</td>\n    </tr>\n  </tbody>\n</table>\n</div>"
     },
     "metadata": {},
     "output_type": "execute_result",
     "execution_count": 64
    }
   ],
   "source": [
    "height_weight_data = pd.read_csv('D:\\PycharmProjects\\DescriptiveStatistics\\datasets\\Person_Gender_Height_Weight_Index.csv')\n",
    "\n",
    "height_weight_data.head(5)"
   ]
  },
  {
   "cell_type": "code",
   "execution_count": 65,
   "metadata": {
    "pycharm": {
     "is_executing": false
    }
   },
   "outputs": [],
   "source": [
    "height_weight_data.drop('Index', inplace=True, axis=1)"
   ]
  },
  {
   "cell_type": "code",
   "execution_count": 66,
   "metadata": {
    "pycharm": {
     "is_executing": false
    }
   },
   "outputs": [
    {
     "data": {
      "text/plain": "(500, 3)"
     },
     "metadata": {},
     "output_type": "execute_result",
     "execution_count": 66
    }
   ],
   "source": [
    "height_weight_data.shape"
   ]
  },
  {
   "cell_type": "code",
   "execution_count": 67,
   "metadata": {
    "pycharm": {
     "is_executing": false
    }
   },
   "outputs": [
    {
     "data": {
      "text/plain": "Gender    0\nHeight    0\nWeight    0\ndtype: int64"
     },
     "metadata": {},
     "output_type": "execute_result",
     "execution_count": 67
    }
   ],
   "source": [
    "height_weight_data.isnull().sum()"
   ]
  },
  {
   "cell_type": "code",
   "execution_count": 68,
   "metadata": {
    "pycharm": {
     "is_executing": false
    }
   },
   "outputs": [
    {
     "data": {
      "text/plain": "140"
     },
     "metadata": {},
     "output_type": "execute_result",
     "execution_count": 68
    }
   ],
   "source": [
    "min_height = height_weight_data['Height'].min()\n",
    "\n",
    "min_height"
   ]
  },
  {
   "cell_type": "code",
   "execution_count": 69,
   "metadata": {
    "pycharm": {
     "is_executing": false
    }
   },
   "outputs": [
    {
     "data": {
      "text/plain": "199"
     },
     "metadata": {},
     "output_type": "execute_result",
     "execution_count": 69
    }
   ],
   "source": [
    "max_height = height_weight_data['Height'].max()\n",
    "\n",
    "max_height"
   ]
  },
  {
   "cell_type": "code",
   "execution_count": 70,
   "metadata": {
    "pycharm": {
     "is_executing": false
    }
   },
   "outputs": [
    {
     "data": {
      "text/plain": "50"
     },
     "metadata": {},
     "output_type": "execute_result",
     "execution_count": 70
    }
   ],
   "source": [
    "min_weight = height_weight_data['Weight'].min()\n",
    "\n",
    "min_weight"
   ]
  },
  {
   "cell_type": "code",
   "execution_count": 71,
   "metadata": {
    "pycharm": {
     "is_executing": false
    }
   },
   "outputs": [
    {
     "data": {
      "text/plain": "160"
     },
     "metadata": {},
     "output_type": "execute_result",
     "execution_count": 71
    }
   ],
   "source": [
    "max_weight = height_weight_data['Weight'].max()\n",
    "\n",
    "max_weight"
   ]
  },
  {
   "cell_type": "code",
   "execution_count": 72,
   "metadata": {
    "pycharm": {
     "is_executing": false
    }
   },
   "outputs": [
    {
     "data": {
      "text/plain": "59"
     },
     "metadata": {},
     "output_type": "execute_result",
     "execution_count": 72
    }
   ],
   "source": [
    "range_of_height = max_height - min_height\n",
    "\n",
    "range_of_height"
   ]
  },
  {
   "cell_type": "code",
   "execution_count": 73,
   "metadata": {
    "pycharm": {
     "is_executing": false
    }
   },
   "outputs": [
    {
     "data": {
      "text/plain": "110"
     },
     "metadata": {},
     "output_type": "execute_result",
     "execution_count": 73
    }
   ],
   "source": [
    "range_of_weight = max_weight - min_weight\n",
    "\n",
    "range_of_weight"
   ]
  },
  {
   "cell_type": "code",
   "execution_count": 20,
   "metadata": {
    "pycharm": {
     "is_executing": false
    }
   },
   "outputs": [
    {
     "data": {
      "text/plain": "0     96\n1     87\n2    110\n3    104\n4     61\nName: Weight, dtype: int64"
     },
     "metadata": {},
     "output_type": "execute_result",
     "execution_count": 20
    }
   ],
   "source": [
    "weight = height_weight_data['Weight']\n",
    "\n",
    "weight.head()"
   ]
  },
  {
   "cell_type": "code",
   "execution_count": 21,
   "metadata": {
    "pycharm": {
     "is_executing": false
    }
   },
   "outputs": [
    {
     "data": {
      "text/plain": "0    50\n1    50\n2    50\n3    50\n4    50\nName: Weight, dtype: int64"
     },
     "metadata": {},
     "output_type": "execute_result",
     "execution_count": 21
    }
   ],
   "source": [
    "sorted_weight = weight.sort_values().reset_index(drop=True)\n",
    "\n",
    "sorted_weight.head()"
   ]
  },
  {
   "cell_type": "code",
   "execution_count": 22,
   "metadata": {
    "pycharm": {
     "is_executing": false
    }
   },
   "outputs": [],
   "source": [
    "def mean(data):\n",
    "    num_elements = len(data)\n",
    "    print('Number of elements: ', num_elements)\n",
    "    \n",
    "    weight_sum = data.sum()\n",
    "    print('Sum: ', weight_sum)\n",
    "    \n",
    "    return weight_sum / num_elements"
   ]
  },
  {
   "cell_type": "code",
   "execution_count": 23,
   "metadata": {
    "pycharm": {
     "is_executing": false
    }
   },
   "outputs": [],
   "source": [
    "def median(data):\n",
    "    num_elements = len(data)\n",
    "    \n",
    "    if(num_elements % 2 == 0):\n",
    "        return  (data[(num_elements / 2) - 1] + data[(num_elements / 2)]) / 2 \n",
    "    \n",
    "    else: \n",
    "        return (data[((num_elements + 1) / 2) - 1])"
   ]
  },
  {
   "cell_type": "code",
   "execution_count": 24,
   "metadata": {
    "pycharm": {
     "is_executing": false
    }
   },
   "outputs": [
    {
     "name": "stdout",
     "text": [
      "Number of elements:  500\nSum:  53000\n"
     ],
     "output_type": "stream"
    },
    {
     "data": {
      "text/plain": "106.0"
     },
     "metadata": {},
     "output_type": "execute_result",
     "execution_count": 24
    }
   ],
   "source": [
    "mean(height_weight_data['Weight'])"
   ]
  },
  {
   "cell_type": "code",
   "execution_count": 25,
   "metadata": {
    "pycharm": {
     "is_executing": false
    }
   },
   "outputs": [
    {
     "data": {
      "text/plain": "106.0"
     },
     "metadata": {},
     "output_type": "execute_result",
     "execution_count": 25
    }
   ],
   "source": [
    "weight_mean = height_weight_data['Weight'].mean()\n",
    "\n",
    "weight_mean"
   ]
  },
  {
   "cell_type": "code",
   "execution_count": 26,
   "metadata": {
    "pycharm": {
     "is_executing": false
    }
   },
   "outputs": [
    {
     "data": {
      "text/plain": "79.5"
     },
     "metadata": {},
     "output_type": "execute_result",
     "execution_count": 26
    }
   ],
   "source": [
    "median(height_weight_data['Weight'])"
   ]
  },
  {
   "cell_type": "code",
   "execution_count": 27,
   "metadata": {
    "pycharm": {
     "is_executing": false
    }
   },
   "outputs": [
    {
     "data": {
      "text/plain": "106.0"
     },
     "metadata": {},
     "output_type": "execute_result",
     "execution_count": 27
    }
   ],
   "source": [
    "median(sorted_weight)"
   ]
  },
  {
   "cell_type": "code",
   "execution_count": 28,
   "metadata": {
    "pycharm": {
     "is_executing": false
    }
   },
   "outputs": [
    {
     "data": {
      "text/plain": "106.0"
     },
     "metadata": {},
     "output_type": "execute_result",
     "execution_count": 28
    }
   ],
   "source": [
    "weight_median = height_weight_data['Weight'].median()\n",
    "\n",
    "weight_median"
   ]
  },
  {
   "cell_type": "code",
   "execution_count": 29,
   "metadata": {
    "pycharm": {
     "is_executing": false
    }
   },
   "outputs": [
    {
     "data": {
      "text/plain": "<matplotlib.legend.Legend at 0x2395f763a88>"
     },
     "metadata": {},
     "output_type": "execute_result",
     "execution_count": 29
    },
    {
     "data": {
      "text/plain": "<Figure size 864x576 with 1 Axes>",
      "image/png": "[encoded data removed]"
     },
     "metadata": {
      "needs_background": "light"
     },
     "output_type": "display_data"
    }
   ],
   "source": [
    "plt.figure(figsize=(12, 8))\n",
    "\n",
    "height_weight_data['Weight'].hist(bins=30)\n",
    "\n",
    "plt.axvline(weight_mean, color='r', label='mean')\n",
    "\n",
    "plt.legend()"
   ]
  },
  {
   "cell_type": "code",
   "execution_count": 30,
   "metadata": {
    "pycharm": {
     "is_executing": false
    }
   },
   "outputs": [
    {
     "data": {
      "text/plain": "<matplotlib.legend.Legend at 0x2395fa0a688>"
     },
     "metadata": {},
     "output_type": "execute_result",
     "execution_count": 30
    },
    {
     "data": {
      "text/plain": "<Figure size 864x576 with 1 Axes>",
      "image/png": "[encoded data removed]"
     },
     "metadata": {
      "needs_background": "light"
     },
     "output_type": "display_data"
    }
   ],
   "source": [
    "plt.figure(figsize=(12, 8))\n",
    "\n",
    "height_weight_data['Weight'].hist(bins=30)\n",
    "\n",
    "plt.axvline(weight_median, color='g', label='median')\n",
    "\n",
    "plt.legend()"
   ]
  },
  {
   "cell_type": "code",
   "execution_count": 31,
   "metadata": {
    "pycharm": {
     "is_executing": false
    }
   },
   "outputs": [
    {
     "data": {
      "text/plain": "<Figure size 864x576 with 1 Axes>",
      "image/png": "[encoded data removed]"
     },
     "metadata": {
      "needs_background": "light"
     },
     "output_type": "display_data"
    }
   ],
   "source": [
    "plt.figure(figsize=(12, 8))\n",
    "\n",
    "plt.bar(height_weight_data['Height'], height_weight_data['Weight'])\n",
    "\n",
    "plt.axhline(weight_mean, color='r', label='mean')\n",
    "plt.axhline(weight_median, color='b', label='median')\n",
    "\n",
    "plt.show()"
   ]
  },
  {
   "cell_type": "code",
   "execution_count": 32,
   "metadata": {
    "pycharm": {
     "is_executing": false
    }
   },
   "outputs": [
    {
     "data": {
      "text/plain": "     Gender  Height  Weight\n0      Male     174      96\n1      Male     189      87\n2    Female     185     110\n3    Female     195     104\n4      Male     149      61\n..      ...     ...     ...\n495  Female     150     153\n496  Female     184     121\n497  Female     141     136\n498    Male     150      95\n499    Male     173     131\n\n[500 rows x 3 columns]",
      "text/html": "<div>\n<style scoped>\n    .dataframe tbody tr th:only-of-type {\n        vertical-align: middle;\n    }\n\n    .dataframe tbody tr th {\n        vertical-align: top;\n    }\n\n    .dataframe thead th {\n        text-align: right;\n    }\n</style>\n<table border=\"1\" class=\"dataframe\">\n  <thead>\n    <tr style=\"text-align: right;\">\n      <th></th>\n      <th>Gender</th>\n      <th>Height</th>\n      <th>Weight</th>\n    </tr>\n  </thead>\n  <tbody>\n    <tr>\n      <td>0</td>\n      <td>Male</td>\n      <td>174</td>\n      <td>96</td>\n    </tr>\n    <tr>\n      <td>1</td>\n      <td>Male</td>\n      <td>189</td>\n      <td>87</td>\n    </tr>\n    <tr>\n      <td>2</td>\n      <td>Female</td>\n      <td>185</td>\n      <td>110</td>\n    </tr>\n    <tr>\n      <td>3</td>\n      <td>Female</td>\n      <td>195</td>\n      <td>104</td>\n    </tr>\n    <tr>\n      <td>4</td>\n      <td>Male</td>\n      <td>149</td>\n      <td>61</td>\n    </tr>\n    <tr>\n      <td>...</td>\n      <td>...</td>\n      <td>...</td>\n      <td>...</td>\n    </tr>\n    <tr>\n      <td>495</td>\n      <td>Female</td>\n      <td>150</td>\n      <td>153</td>\n    </tr>\n    <tr>\n      <td>496</td>\n      <td>Female</td>\n      <td>184</td>\n      <td>121</td>\n    </tr>\n    <tr>\n      <td>497</td>\n      <td>Female</td>\n      <td>141</td>\n      <td>136</td>\n    </tr>\n    <tr>\n      <td>498</td>\n      <td>Male</td>\n      <td>150</td>\n      <td>95</td>\n    </tr>\n    <tr>\n      <td>499</td>\n      <td>Male</td>\n      <td>173</td>\n      <td>131</td>\n    </tr>\n  </tbody>\n</table>\n<p>500 rows × 3 columns</p>\n</div>"
     },
     "metadata": {},
     "output_type": "execute_result",
     "execution_count": 32
    }
   ],
   "source": [
    "height_weight_data"
   ]
  },
  {
   "cell_type": "code",
   "execution_count": 74,
   "metadata": {
    "pycharm": {
     "is_executing": false
    }
   },
   "outputs": [],
   "source": [
    "listOfSeries = [pd.Series(['Male', 205, 460], index=height_weight_data.columns ), \n",
    "                pd.Series(['Female', 202, 390], index=height_weight_data.columns ), \n",
    "                pd.Series(['Female', 199, 410], index=height_weight_data.columns ),\n",
    "                pd.Series(['Male', 202, 390], index=height_weight_data.columns ), \n",
    "                pd.Series(['Female', 199, 410], index=height_weight_data.columns ),\n",
    "                pd.Series(['Male', 200, 490], index=height_weight_data.columns )]"
   ]
  },
  {
   "cell_type": "code",
   "execution_count": 34,
   "metadata": {
    "pycharm": {
     "is_executing": false
    }
   },
   "outputs": [
    {
     "data": {
      "text/plain": "     Gender  Height  Weight\n501  Female     202     390\n502  Female     199     410\n503    Male     202     390\n504  Female     199     410\n505    Male     200     490",
      "text/html": "<div>\n<style scoped>\n    .dataframe tbody tr th:only-of-type {\n        vertical-align: middle;\n    }\n\n    .dataframe tbody tr th {\n        vertical-align: top;\n    }\n\n    .dataframe thead th {\n        text-align: right;\n    }\n</style>\n<table border=\"1\" class=\"dataframe\">\n  <thead>\n    <tr style=\"text-align: right;\">\n      <th></th>\n      <th>Gender</th>\n      <th>Height</th>\n      <th>Weight</th>\n    </tr>\n  </thead>\n  <tbody>\n    <tr>\n      <td>501</td>\n      <td>Female</td>\n      <td>202</td>\n      <td>390</td>\n    </tr>\n    <tr>\n      <td>502</td>\n      <td>Female</td>\n      <td>199</td>\n      <td>410</td>\n    </tr>\n    <tr>\n      <td>503</td>\n      <td>Male</td>\n      <td>202</td>\n      <td>390</td>\n    </tr>\n    <tr>\n      <td>504</td>\n      <td>Female</td>\n      <td>199</td>\n      <td>410</td>\n    </tr>\n    <tr>\n      <td>505</td>\n      <td>Male</td>\n      <td>200</td>\n      <td>490</td>\n    </tr>\n  </tbody>\n</table>\n</div>"
     },
     "metadata": {},
     "output_type": "execute_result",
     "execution_count": 34
    }
   ],
   "source": [
    "height_weight_updated = height_weight_data.append(listOfSeries , ignore_index=True)\n",
    "\n",
    "height_weight_updated.tail()"
   ]
  },
  {
   "cell_type": "code",
   "execution_count": 35,
   "metadata": {
    "pycharm": {
     "is_executing": false
    }
   },
   "outputs": [
    {
     "data": {
      "text/plain": "109.78260869565217"
     },
     "metadata": {},
     "output_type": "execute_result",
     "execution_count": 35
    }
   ],
   "source": [
    "updated_weight_mean = height_weight_updated['Weight'].mean()\n",
    "\n",
    "updated_weight_mean"
   ]
  },
  {
   "cell_type": "code",
   "execution_count": 36,
   "metadata": {
    "pycharm": {
     "is_executing": false
    }
   },
   "outputs": [
    {
     "data": {
      "text/plain": "106.0"
     },
     "metadata": {},
     "output_type": "execute_result",
     "execution_count": 36
    }
   ],
   "source": [
    "weight_mean"
   ]
  },
  {
   "cell_type": "code",
   "execution_count": 37,
   "metadata": {
    "pycharm": {
     "is_executing": false
    }
   },
   "outputs": [
    {
     "data": {
      "text/plain": "106.5"
     },
     "metadata": {},
     "output_type": "execute_result",
     "execution_count": 37
    }
   ],
   "source": [
    "updated_weight_median = height_weight_updated['Weight'].median()\n",
    "\n",
    "updated_weight_median"
   ]
  },
  {
   "cell_type": "code",
   "execution_count": 38,
   "metadata": {
    "pycharm": {
     "is_executing": false
    }
   },
   "outputs": [
    {
     "data": {
      "text/plain": "106.0"
     },
     "metadata": {},
     "output_type": "execute_result",
     "execution_count": 38
    }
   ],
   "source": [
    "weight_median"
   ]
  },
  {
   "cell_type": "code",
   "execution_count": 39,
   "metadata": {
    "pycharm": {
     "is_executing": false
    }
   },
   "outputs": [
    {
     "data": {
      "text/plain": "<Figure size 864x576 with 1 Axes>",
      "image/png": "[encoded data removed]"
     },
     "metadata": {
      "needs_background": "light"
     },
     "output_type": "display_data"
    }
   ],
   "source": [
    "plt.figure(figsize=(12, 8))\n",
    "\n",
    "plt.bar(height_weight_updated['Height'], height_weight_updated['Weight'])\n",
    "\n",
    "plt.axhline(updated_weight_mean, color='r', label='mean')\n",
    "plt.axhline(updated_weight_median, color='b', label='median')\n",
    "\n",
    "plt.show()"
   ]
  },
  {
   "cell_type": "code",
   "execution_count": 40,
   "metadata": {
    "pycharm": {
     "is_executing": false
    }
   },
   "outputs": [
    {
     "data": {
      "text/plain": "<matplotlib.legend.Legend at 0x239607c3f08>"
     },
     "metadata": {},
     "output_type": "execute_result",
     "execution_count": 40
    },
    {
     "data": {
      "text/plain": "<Figure size 864x576 with 1 Axes>",
      "image/png": "[encoded data removed]"
     },
     "metadata": {
      "needs_background": "light"
     },
     "output_type": "display_data"
    }
   ],
   "source": [
    "plt.figure(figsize=(12, 8))\n",
    "\n",
    "height_weight_data['Weight'].hist(bins=20)\n",
    "\n",
    "plt.axvline(updated_weight_mean, color='r', label='mean')\n",
    "plt.axvline(updated_weight_median, color='g', label='median')\n",
    "\n",
    "plt.legend()"
   ]
  },
  {
   "cell_type": "code",
   "execution_count": 41,
   "metadata": {
    "pycharm": {
     "is_executing": false
    }
   },
   "outputs": [
    {
     "data": {
      "text/plain": "<matplotlib.legend.Legend at 0x2396087ad48>"
     },
     "metadata": {},
     "output_type": "execute_result",
     "execution_count": 41
    },
    {
     "data": {
      "text/plain": "<Figure size 864x576 with 1 Axes>",
      "image/png": "[encoded data removed]"
     },
     "metadata": {
      "needs_background": "light"
     },
     "output_type": "display_data"
    }
   ],
   "source": [
    "plt.figure(figsize=(12, 8))\n",
    "\n",
    "height_weight_updated['Weight'].hist(bins=100)\n",
    "\n",
    "plt.axvline(updated_weight_mean, color='r', label='mean')\n",
    "plt.axvline(updated_weight_median, color='g', label='median')\n",
    "\n",
    "plt.legend()"
   ]
  },
  {
   "cell_type": "code",
   "execution_count": 42,
   "metadata": {
    "pycharm": {
     "is_executing": false
    }
   },
   "outputs": [],
   "source": [
    "height_counts = {}\n",
    "\n",
    "for p in height_weight_data['Height']:\n",
    "    if p not in height_counts:\n",
    "        height_counts[p] = 1\n",
    "    else:\n",
    "        height_counts[p] += 1"
   ]
  },
  {
   "cell_type": "code",
   "execution_count": 43,
   "metadata": {
    "pycharm": {
     "is_executing": false
    }
   },
   "outputs": [
    {
     "data": {
      "text/plain": "{174: 8,\n 189: 5,\n 185: 11,\n 195: 10,\n 149: 5,\n 147: 7,\n 154: 10,\n 169: 10,\n 159: 9,\n 192: 6,\n 155: 6,\n 191: 7,\n 153: 10,\n 157: 10,\n 140: 8,\n 144: 5,\n 172: 12,\n 151: 8,\n 190: 9,\n 187: 14,\n 163: 8,\n 179: 14,\n 178: 13,\n 160: 7,\n 197: 7,\n 171: 8,\n 175: 4,\n 161: 9,\n 182: 12,\n 188: 15,\n 181: 11,\n 168: 13,\n 176: 7,\n 196: 6,\n 164: 9,\n 143: 3,\n 141: 8,\n 193: 5,\n 194: 5,\n 180: 8,\n 165: 10,\n 166: 9,\n 186: 9,\n 198: 5,\n 145: 9,\n 183: 11,\n 177: 9,\n 170: 6,\n 142: 9,\n 199: 3,\n 150: 11,\n 146: 9,\n 148: 5,\n 184: 12,\n 158: 5,\n 167: 9,\n 156: 6,\n 162: 9,\n 173: 4,\n 152: 8}"
     },
     "metadata": {},
     "output_type": "execute_result",
     "execution_count": 43
    }
   ],
   "source": [
    "height_counts"
   ]
  },
  {
   "cell_type": "code",
   "execution_count": 44,
   "metadata": {
    "pycharm": {
     "is_executing": false
    }
   },
   "outputs": [
    {
     "data": {
      "text/plain": "<Figure size 1800x720 with 1 Axes>",
      "image/png": "[encoded data removed]"
     },
     "metadata": {
      "needs_background": "light"
     },
     "output_type": "display_data"
    }
   ],
   "source": [
    "plt.figure(figsize=(25, 10))\n",
    "\n",
    "x_range = range(len(height_counts))\n",
    "\n",
    "plt.bar(x_range, list(height_counts.values()), align='center')\n",
    "plt.xticks(x_range, list(height_counts.keys()))\n",
    "\n",
    "plt.xlabel('Height')\n",
    "plt.ylabel('Count')\n",
    "\n",
    "plt.show()"
   ]
  },
  {
   "cell_type": "code",
   "execution_count": 45,
   "metadata": {
    "pycharm": {
     "is_executing": false
    }
   },
   "outputs": [
    {
     "name": "stdout",
     "text": [
      "Size:  188 \nFrequency:  15\n"
     ],
     "output_type": "stream"
    }
   ],
   "source": [
    "count = 0 \n",
    "size = 0\n",
    "\n",
    "for s, c in height_counts.items():\n",
    "    if count < c:\n",
    "        count = c\n",
    "        size = s\n",
    "        \n",
    "print('Size: ', size, '\\nFrequency: ', count)"
   ]
  },
  {
   "cell_type": "code",
   "execution_count": 46,
   "metadata": {
    "pycharm": {
     "is_executing": false
    }
   },
   "outputs": [
    {
     "data": {
      "text/plain": "0    188\ndtype: int64"
     },
     "metadata": {},
     "output_type": "execute_result",
     "execution_count": 46
    }
   ],
   "source": [
    "height_weight_data['Height'].mode()"
   ]
  },
  {
   "cell_type": "code",
   "execution_count": 47,
   "metadata": {
    "pycharm": {
     "is_executing": false
    }
   },
   "outputs": [
    {
     "data": {
      "text/plain": "0     50\n1     80\n2    104\ndtype: int64"
     },
     "metadata": {},
     "output_type": "execute_result",
     "execution_count": 47
    }
   ],
   "source": [
    "height_weight_data['Weight'].mode()"
   ]
  },
  {
   "cell_type": "code",
   "execution_count": 48,
   "metadata": {
    "pycharm": {
     "is_executing": false
    }
   },
   "outputs": [],
   "source": [
    "height_mean = height_weight_data['Height'].mean()\n",
    "\n",
    "height_median = height_weight_data['Height'].median()\n",
    "\n",
    "height_mode = height_weight_data['Height'].mode().values[0]"
   ]
  },
  {
   "cell_type": "code",
   "execution_count": 49,
   "metadata": {
    "pycharm": {
     "is_executing": false
    }
   },
   "outputs": [
    {
     "data": {
      "text/plain": "<matplotlib.legend.Legend at 0x2395f8d51c8>"
     },
     "metadata": {},
     "output_type": "execute_result",
     "execution_count": 49
    },
    {
     "data": {
      "text/plain": "<Figure size 864x576 with 1 Axes>",
      "image/png": "[encoded data removed]"
     },
     "metadata": {
      "needs_background": "light"
     },
     "output_type": "display_data"
    }
   ],
   "source": [
    "plt.figure(figsize=(12, 8))\n",
    "\n",
    "height_weight_data['Height'].hist()\n",
    "\n",
    "plt.axvline(height_mean, color='r', label='mean')\n",
    "plt.axvline(height_median, color='g', label='median')\n",
    "plt.axvline(height_mode, color='y', label='mode')\n",
    "\n",
    "plt.legend()"
   ]
  },
  {
   "cell_type": "code",
   "execution_count": 49,
   "metadata": {
    "pycharm": {
     "is_executing": false
    }
   },
   "outputs": [],
   "source": []
  },
  {
   "cell_type": "code",
   "execution_count": 49,
   "metadata": {
    "pycharm": {
     "is_executing": false
    }
   },
   "outputs": [],
   "source": []
  },
  {
   "cell_type": "code",
   "execution_count": 49,
   "metadata": {
    "pycharm": {
     "is_executing": false
    }
   },
   "outputs": [],
   "source": []
  },
  {
   "cell_type": "code",
   "execution_count": 49,
   "metadata": {
    "pycharm": {
     "is_executing": false
    }
   },
   "outputs": [],
   "source": []
  },
  {
   "cell_type": "code",
   "execution_count": 49,
   "metadata": {
    "pycharm": {
     "is_executing": false
    }
   },
   "outputs": [],
   "source": []
  },
  {
   "cell_type": "code",
   "execution_count": 49,
   "metadata": {
    "pycharm": {
     "is_executing": false
    }
   },
   "outputs": [],
   "source": []
  },
  {
   "cell_type": "code",
   "execution_count": 49,
   "metadata": {
    "pycharm": {
     "is_executing": false
    }
   },
   "outputs": [],
   "source": []
  },
  {
   "cell_type": "code",
   "execution_count": 49,
   "metadata": {
    "pycharm": {
     "is_executing": false
    }
   },
   "outputs": [],
   "source": []
  },
  {
   "cell_type": "code",
   "execution_count": 49,
   "metadata": {
    "pycharm": {
     "is_executing": false
    }
   },
   "outputs": [],
   "source": []
  },
  {
   "cell_type": "code",
   "execution_count": 49,
   "metadata": {
    "pycharm": {
     "is_executing": false
    }
   },
   "outputs": [],
   "source": []
  },
  {
   "cell_type": "code",
   "execution_count": 49,
   "metadata": {
    "pycharm": {
     "is_executing": false
    }
   },
   "outputs": [],
   "source": []
  }
 ],
 "metadata": {
  "kernelspec": {
   "display_name": "Python 3",
   "language": "python",
   "name": "python3"
  },
  "language_info": {
   "codemirror_mode": {
    "name": "ipython",
    "version": 3
   },
   "file_extension": ".py",
   "mimetype": "text/x-python",
   "name": "python",
   "nbconvert_exporter": "python",
   "pygments_lexer": "ipython3",
   "version": "3.7.1"
  },
  "pycharm": {
   "stem_cell": {
    "cell_type": "raw",
    "source": [],
    "metadata": {
     "collapsed": false
    }
   }
  }
 },
 "nbformat": 4,
 "nbformat_minor": 2
}