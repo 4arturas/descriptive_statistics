{
 "cells": [
  {
   "cell_type": "code",
   "execution_count": 6,
   "metadata": {
    "collapsed": true,
    "pycharm": {
     "is_executing": false
    }
   },
   "outputs": [
    {
     "data": {
      "text/plain": "     customer_id  gender  age  annual_income  spending_score\n0              1    Male   19          15000              39\n1              2    Male   21          15000              81\n2              3  Female   20          16000               6\n3              4  Female   23          16000              77\n4              5  Female   31          17000              40\n..           ...     ...  ...            ...             ...\n195          196  Female   35         120000              79\n196          197  Female   45         126000              28\n197          198    Male   32         126000              74\n198          199    Male   32         137000              18\n199          200    Male   30         137000              83\n\n[200 rows x 5 columns]",
      "text/html": "<div>\n<style scoped>\n    .dataframe tbody tr th:only-of-type {\n        vertical-align: middle;\n    }\n\n    .dataframe tbody tr th {\n        vertical-align: top;\n    }\n\n    .dataframe thead th {\n        text-align: right;\n    }\n</style>\n<table border=\"1\" class=\"dataframe\">\n  <thead>\n    <tr style=\"text-align: right;\">\n      <th></th>\n      <th>customer_id</th>\n      <th>gender</th>\n      <th>age</th>\n      <th>annual_income</th>\n      <th>spending_score</th>\n    </tr>\n  </thead>\n  <tbody>\n    <tr>\n      <td>0</td>\n      <td>1</td>\n      <td>Male</td>\n      <td>19</td>\n      <td>15000</td>\n      <td>39</td>\n    </tr>\n    <tr>\n      <td>1</td>\n      <td>2</td>\n      <td>Male</td>\n      <td>21</td>\n      <td>15000</td>\n      <td>81</td>\n    </tr>\n    <tr>\n      <td>2</td>\n      <td>3</td>\n      <td>Female</td>\n      <td>20</td>\n      <td>16000</td>\n      <td>6</td>\n    </tr>\n    <tr>\n      <td>3</td>\n      <td>4</td>\n      <td>Female</td>\n      <td>23</td>\n      <td>16000</td>\n      <td>77</td>\n    </tr>\n    <tr>\n      <td>4</td>\n      <td>5</td>\n      <td>Female</td>\n      <td>31</td>\n      <td>17000</td>\n      <td>40</td>\n    </tr>\n    <tr>\n      <td>...</td>\n      <td>...</td>\n      <td>...</td>\n      <td>...</td>\n      <td>...</td>\n      <td>...</td>\n    </tr>\n    <tr>\n      <td>195</td>\n      <td>196</td>\n      <td>Female</td>\n      <td>35</td>\n      <td>120000</td>\n      <td>79</td>\n    </tr>\n    <tr>\n      <td>196</td>\n      <td>197</td>\n      <td>Female</td>\n      <td>45</td>\n      <td>126000</td>\n      <td>28</td>\n    </tr>\n    <tr>\n      <td>197</td>\n      <td>198</td>\n      <td>Male</td>\n      <td>32</td>\n      <td>126000</td>\n      <td>74</td>\n    </tr>\n    <tr>\n      <td>198</td>\n      <td>199</td>\n      <td>Male</td>\n      <td>32</td>\n      <td>137000</td>\n      <td>18</td>\n    </tr>\n    <tr>\n      <td>199</td>\n      <td>200</td>\n      <td>Male</td>\n      <td>30</td>\n      <td>137000</td>\n      <td>83</td>\n    </tr>\n  </tbody>\n</table>\n<p>200 rows × 5 columns</p>\n</div>"
     },
     "metadata": {},
     "output_type": "execute_result",
     "execution_count": 6
    }
   ],
   "source": [
    "import pandas as pd\n",
    "import matplotlib\n",
    "\n",
    "mall_data = pd.read_json('D:\\PycharmProjects\\DescriptiveStatistics\\datasets\\Mall_Customers.json')\n",
    "mall_data\n"
   ]
  }
 ],
 "metadata": {
  "kernelspec": {
   "display_name": "Python 3",
   "language": "python",
   "name": "python3"
  },
  "language_info": {
   "codemirror_mode": {
    "name": "ipython",
    "version": 2
   },
   "file_extension": ".py",
   "mimetype": "text/x-python",
   "name": "python",
   "nbconvert_exporter": "python",
   "pygments_lexer": "ipython2",
   "version": "2.7.6"
  },
  "pycharm": {
   "stem_cell": {
    "cell_type": "raw",
    "source": [],
    "metadata": {
     "collapsed": false
    }
   }
  }
 },
 "nbformat": 4,
 "nbformat_minor": 0
}