{
 "cells": [
  {
   "cell_type": "code",
   "execution_count": 2,
   "metadata": {
    "collapsed": true,
    "pycharm": {
     "is_executing": false
    }
   },
   "outputs": [],
   "source": [
    "import pandas as pd\n",
    "\n",
    "hw = pd.read_csv('D:\\PycharmProjects\\DescriptiveStatistics\\datasets\\Person_Gender_Height_Weight_Index.csv')"
   ]
  },
  {
   "cell_type": "code",
   "execution_count": 6,
   "outputs": [
    {
     "name": "stdout",
     "text": [
      "1048.633266533066\n"
     ],
     "output_type": "stream"
    }
   ],
   "source": [
    "def variance( data ) :\n",
    "    diffs = 0\n",
    "    avg = sum( data ) / len( data )\n",
    "    for d in data :\n",
    "        diffs += ( d - avg ) ** 2\n",
    "    var = diffs / ( len( data ) - 1 )\n",
    "    return var"
   ],
   "metadata": {
    "collapsed": false,
    "pycharm": {
     "name": "#%% variance function\n",
     "is_executing": false
    }
   }
  },
  {
   "cell_type": "code",
   "execution_count": 8,
   "outputs": [
    {
     "name": "stdout",
     "text": [
      "Variance Height=268.1491623246496 Weight=1048.633266533066\nVariance Height=268.1491623246496 Weight=1048.633266533066\n"
     ],
     "output_type": "stream"
    }
   ],
   "source": [
    "variance_height = variance( hw[\"Height\"] )\n",
    "variance_weight = variance( hw[\"Weight\"] )\n",
    "print( \"Variance Height={0} Weight={1}\".format( variance_height, variance_weight ) )\n",
    "print( \"Variance Height={0} Weight={1}\".format( hw[\"Height\"].var(), hw[\"Weight\"].var() ) )"
   ],
   "metadata": {
    "collapsed": false,
    "pycharm": {
     "name": "#%% calculate variance using variance function and with inbuilt variance function\n",
     "is_executing": false
    }
   }
  },
  {
   "cell_type": "code",
   "execution_count": 10,
   "outputs": [
    {
     "name": "stdout",
     "text": [
      "STD Height=16.37526067959376 Weight=32.38260746964435\nSTD Height=16.37526067959376 Weight=32.38260746964435\n"
     ],
     "output_type": "stream"
    }
   ],
   "source": [
    "print( \"STD Height={0} Weight={1}\".format( variance_height ** 0.5, variance_weight ** 0.5 ) )\n",
    "print( \"STD Height={0} Weight={1}\".format( hw[\"Height\"].std(), hw[\"Weight\"].std() ) )"
   ],
   "metadata": {
    "collapsed": false,
    "pycharm": {
     "name": "#%% calculate standard deviation  by using formula and with inbuild standard deviation function\n",
     "is_executing": false
    }
   }
  },
  {
   "cell_type": "code",
   "execution_count": 4,
   "outputs": [],
   "source": [],
   "metadata": {
    "collapsed": false,
    "pycharm": {
     "name": "#%%\n",
     "is_executing": false
    }
   }
  }
 ],
 "metadata": {
  "kernelspec": {
   "display_name": "Python 3",
   "language": "python",
   "name": "python3"
  },
  "language_info": {
   "codemirror_mode": {
    "name": "ipython",
    "version": 2
   },
   "file_extension": ".py",
   "mimetype": "text/x-python",
   "name": "python",
   "nbconvert_exporter": "python",
   "pygments_lexer": "ipython2",
   "version": "2.7.6"
  },
  "pycharm": {
   "stem_cell": {
    "cell_type": "raw",
    "source": [],
    "metadata": {
     "collapsed": false
    }
   }
  }
 },
 "nbformat": 4,
 "nbformat_minor": 0
}